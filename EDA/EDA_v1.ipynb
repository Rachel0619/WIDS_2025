{
 "cells": [
  {
   "cell_type": "markdown",
   "id": "8f480e94-5fad-42e5-8135-0ec3da6c1f8d",
   "metadata": {},
   "source": [
    "1. Load Data\n",
    "2. Handling Missing Values\n",
    "3. Handling Outliers for Numerical Vars (to-do)\n",
    "4. One Hot Encoding for Categorical Vars\n",
    "5. PCA for MRI columns\n",
    "6. Feature Selection Using Lasso\n",
    "7. Modeling\n",
    "8. ..."
   ]
  },
  {
   "cell_type": "code",
   "execution_count": 60,
   "id": "18cd623d-1db0-4264-b285-f42878425a72",
   "metadata": {},
   "outputs": [],
   "source": [
    "import numpy as np \n",
    "import pandas as pd\n",
    "from sklearn.metrics import f1_score, roc_auc_score\n",
    "from sklearn.impute import SimpleImputer\n",
    "from gc import collect\n",
    "import os\n",
    "import matplotlib.pyplot as plt\n",
    "from matplotlib.ticker import MaxNLocator\n",
    "import scipy\n",
    "import seaborn as sns\n",
    "import matplotlib.pyplot as plt\n",
    "from sklearn.preprocessing import StandardScaler\n",
    "from sklearn.decomposition import PCA"
   ]
  },
  {
   "cell_type": "markdown",
   "id": "8748a841-f196-48cf-acef-246dcb2e6f03",
   "metadata": {},
   "source": [
    "# Load Data"
   ]
  },
  {
   "cell_type": "code",
   "execution_count": 61,
   "id": "f1233d51-6c48-40e3-b7d5-a4787f772137",
   "metadata": {},
   "outputs": [],
   "source": [
    "# Notebook from: https://www.kaggle.com/code/anugarania/wids-2025-eda-step-by-step-workshop-atx-nyc\n",
    "# Function to load all data\n",
    "def get_feats(mode='train'):\n",
    "    \n",
    "    # Load quantitative metadata\n",
    "    feats = pd.read_excel(f\"../Dataset/widsdatathon2025/{mode}/{mode}_QUANTITATIVE_METADATA.xlsx\")\n",
    "    \n",
    "    # Load categorical metadata with the correct filename depending on mode\n",
    "    if mode == 'TRAIN':\n",
    "        cate = pd.read_excel(f\"../Dataset/widsdatathon2025/{mode}/{mode}_CATEGORICAL_METADATA.xlsx\")\n",
    "    else:\n",
    "        cate = pd.read_excel(f\"../Dataset/widsdatathon2025/{mode}/{mode}_CATEGORICAL.xlsx\")\n",
    "    \n",
    "    # Merge categorical data\n",
    "    feats = feats.merge(cate, on='participant_id', how='left')\n",
    "    \n",
    "    # Load functional connectome matrices\n",
    "    func = pd.read_csv(f\"../Dataset/widsdatathon2025/{mode}/{mode}_FUNCTIONAL_CONNECTOME_MATRICES.csv\")\n",
    "    feats = feats.merge(func, on='participant_id', how='left')\n",
    "    \n",
    "    # If training data, merge with solution file\n",
    "    if mode == 'TRAIN':\n",
    "        solution = pd.read_excel(\"../Dataset/widsdatathon2025/TRAIN/TRAINING_SOLUTIONS.xlsx\")\n",
    "        feats = feats.merge(solution, on='participant_id', how='left')\n",
    "    \n",
    "    return feats"
   ]
  },
  {
   "cell_type": "code",
   "execution_count": 62,
   "id": "adbcd454-44e9-4ea6-a105-ee2802943b3e",
   "metadata": {},
   "outputs": [],
   "source": [
    "# Load data\n",
    "train = get_feats(mode='TRAIN')\n",
    "test = get_feats(mode='TEST')\n",
    "\n",
    "# Set index\n",
    "train.set_index('participant_id', inplace=True)\n",
    "test.set_index('participant_id', inplace=True)\n",
    "\n",
    "# Define targets and features\n",
    "targets = ['ADHD_Outcome', 'Sex_F']\n",
    "\n",
    "sub = pd.read_excel('../Dataset/widsdatathon2025/SAMPLE_SUBMISSION.xlsx')\n",
    "y = pd.read_excel('../Dataset/widsdatathon2025/TRAIN/TRAINING_SOLUTIONS.xlsx')"
   ]
  },
  {
   "cell_type": "code",
   "execution_count": 63,
   "id": "46ca256e-199b-419d-a2d9-c4ca71835dd0",
   "metadata": {},
   "outputs": [
    {
     "name": "stdout",
     "output_type": "stream",
     "text": [
      "\n",
      "Dataset Overview:\n",
      "Training data: 1213 participants, 19929 features\n",
      "Test data: 304 participants, 19927 features\n"
     ]
    }
   ],
   "source": [
    "print(\"\\nDataset Overview:\")\n",
    "print(f\"Training data: {train.shape[0]} participants, {train.shape[1]} features\")\n",
    "print(f\"Test data: {test.shape[0]} participants, {test.shape[1]} features\")"
   ]
  },
  {
   "cell_type": "markdown",
   "id": "747edb85-99f2-40a2-9c42-19ae4731cd07",
   "metadata": {},
   "source": [
    "# Data Pre-processing"
   ]
  },
  {
   "cell_type": "code",
   "execution_count": 64,
   "id": "200b6400-689a-4589-bb00-37259e30fa58",
   "metadata": {},
   "outputs": [],
   "source": [
    "## Handling Missing Values\n",
    "def check_missing(dataset):\n",
    "    missing = dataset.isnull().sum()\n",
    "    missing_percent = 100 * missing / len(dataset)\n",
    "    missing_df = pd.DataFrame({\n",
    "        'Missing Values': missing,\n",
    "        'Percentage': missing_percent\n",
    "        })\n",
    "    # Display features with missing values\n",
    "    missing_features = missing_df[missing_df['Missing Values'] > 0].sort_values('Percentage', ascending=False)\n",
    "    print(f\"\\nFeatures with missing values:\")\n",
    "    return missing_features"
   ]
  },
  {
   "cell_type": "code",
   "execution_count": 65,
   "id": "dbfebd82-93af-4a91-8b23-75ae2583edbe",
   "metadata": {},
   "outputs": [
    {
     "name": "stdout",
     "output_type": "stream",
     "text": [
      "\n",
      "Features with missing values:\n"
     ]
    },
    {
     "data": {
      "text/html": [
       "<div>\n",
       "<style scoped>\n",
       "    .dataframe tbody tr th:only-of-type {\n",
       "        vertical-align: middle;\n",
       "    }\n",
       "\n",
       "    .dataframe tbody tr th {\n",
       "        vertical-align: top;\n",
       "    }\n",
       "\n",
       "    .dataframe thead th {\n",
       "        text-align: right;\n",
       "    }\n",
       "</style>\n",
       "<table border=\"1\" class=\"dataframe\">\n",
       "  <thead>\n",
       "    <tr style=\"text-align: right;\">\n",
       "      <th></th>\n",
       "      <th>Missing Values</th>\n",
       "      <th>Percentage</th>\n",
       "    </tr>\n",
       "  </thead>\n",
       "  <tbody>\n",
       "    <tr>\n",
       "      <th>MRI_Track_Age_at_Scan</th>\n",
       "      <td>360</td>\n",
       "      <td>29.678483</td>\n",
       "    </tr>\n",
       "    <tr>\n",
       "      <th>PreInt_Demos_Fam_Child_Ethnicity</th>\n",
       "      <td>11</td>\n",
       "      <td>0.906843</td>\n",
       "    </tr>\n",
       "  </tbody>\n",
       "</table>\n",
       "</div>"
      ],
      "text/plain": [
       "                                  Missing Values  Percentage\n",
       "MRI_Track_Age_at_Scan                        360   29.678483\n",
       "PreInt_Demos_Fam_Child_Ethnicity              11    0.906843"
      ]
     },
     "execution_count": 65,
     "metadata": {},
     "output_type": "execute_result"
    }
   ],
   "source": [
    "# Check for missing values in the training data\n",
    "check_missing(train)"
   ]
  },
  {
   "cell_type": "code",
   "execution_count": 66,
   "id": "fe1bd1c4-bc11-4f4a-a741-c236e34e9f72",
   "metadata": {},
   "outputs": [],
   "source": [
    "def fill_missing(dataset, columns, impute_method, fill_value=None):\n",
    "    imputer = SimpleImputer(strategy=impute_method, fill_value=fill_value)\n",
    "    imputer.fit(dataset[columns])\n",
    "    dataset[columns] = imputer.transform(dataset[columns])"
   ]
  },
  {
   "cell_type": "code",
   "execution_count": 67,
   "id": "e4a49ff6-e5f5-4987-8482-d909c8963410",
   "metadata": {},
   "outputs": [],
   "source": [
    "fill_missing(train, ['MRI_Track_Age_at_Scan'], 'mean') # training set, numeric var\n",
    "fill_missing(train, ['PreInt_Demos_Fam_Child_Ethnicity'], 'constant', 3) # 3=unknown"
   ]
  },
  {
   "cell_type": "code",
   "execution_count": 68,
   "id": "e72109b8-aba9-4d84-84e5-086084a164ed",
   "metadata": {
    "scrolled": true
   },
   "outputs": [
    {
     "name": "stdout",
     "output_type": "stream",
     "text": [
      "\n",
      "Features with missing values:\n"
     ]
    },
    {
     "data": {
      "text/html": [
       "<div>\n",
       "<style scoped>\n",
       "    .dataframe tbody tr th:only-of-type {\n",
       "        vertical-align: middle;\n",
       "    }\n",
       "\n",
       "    .dataframe tbody tr th {\n",
       "        vertical-align: top;\n",
       "    }\n",
       "\n",
       "    .dataframe thead th {\n",
       "        text-align: right;\n",
       "    }\n",
       "</style>\n",
       "<table border=\"1\" class=\"dataframe\">\n",
       "  <thead>\n",
       "    <tr style=\"text-align: right;\">\n",
       "      <th></th>\n",
       "      <th>Missing Values</th>\n",
       "      <th>Percentage</th>\n",
       "    </tr>\n",
       "  </thead>\n",
       "  <tbody>\n",
       "    <tr>\n",
       "      <th>Barratt_Barratt_P2_Occ</th>\n",
       "      <td>42</td>\n",
       "      <td>13.815789</td>\n",
       "    </tr>\n",
       "    <tr>\n",
       "      <th>Barratt_Barratt_P2_Edu</th>\n",
       "      <td>36</td>\n",
       "      <td>11.842105</td>\n",
       "    </tr>\n",
       "    <tr>\n",
       "      <th>SDQ_SDQ_Difficulties_Total</th>\n",
       "      <td>30</td>\n",
       "      <td>9.868421</td>\n",
       "    </tr>\n",
       "    <tr>\n",
       "      <th>SDQ_SDQ_Prosocial</th>\n",
       "      <td>30</td>\n",
       "      <td>9.868421</td>\n",
       "    </tr>\n",
       "    <tr>\n",
       "      <th>SDQ_SDQ_Peer_Problems</th>\n",
       "      <td>30</td>\n",
       "      <td>9.868421</td>\n",
       "    </tr>\n",
       "    <tr>\n",
       "      <th>SDQ_SDQ_Internalizing</th>\n",
       "      <td>30</td>\n",
       "      <td>9.868421</td>\n",
       "    </tr>\n",
       "    <tr>\n",
       "      <th>SDQ_SDQ_Hyperactivity</th>\n",
       "      <td>30</td>\n",
       "      <td>9.868421</td>\n",
       "    </tr>\n",
       "    <tr>\n",
       "      <th>SDQ_SDQ_Generating_Impact</th>\n",
       "      <td>30</td>\n",
       "      <td>9.868421</td>\n",
       "    </tr>\n",
       "    <tr>\n",
       "      <th>SDQ_SDQ_Emotional_Problems</th>\n",
       "      <td>30</td>\n",
       "      <td>9.868421</td>\n",
       "    </tr>\n",
       "    <tr>\n",
       "      <th>SDQ_SDQ_Externalizing</th>\n",
       "      <td>30</td>\n",
       "      <td>9.868421</td>\n",
       "    </tr>\n",
       "    <tr>\n",
       "      <th>SDQ_SDQ_Conduct_Problems</th>\n",
       "      <td>30</td>\n",
       "      <td>9.868421</td>\n",
       "    </tr>\n",
       "    <tr>\n",
       "      <th>APQ_P_APQ_P_PP</th>\n",
       "      <td>15</td>\n",
       "      <td>4.934211</td>\n",
       "    </tr>\n",
       "    <tr>\n",
       "      <th>APQ_P_APQ_P_PM</th>\n",
       "      <td>15</td>\n",
       "      <td>4.934211</td>\n",
       "    </tr>\n",
       "    <tr>\n",
       "      <th>APQ_P_APQ_P_OPD</th>\n",
       "      <td>15</td>\n",
       "      <td>4.934211</td>\n",
       "    </tr>\n",
       "    <tr>\n",
       "      <th>APQ_P_APQ_P_INV</th>\n",
       "      <td>15</td>\n",
       "      <td>4.934211</td>\n",
       "    </tr>\n",
       "    <tr>\n",
       "      <th>APQ_P_APQ_P_ID</th>\n",
       "      <td>15</td>\n",
       "      <td>4.934211</td>\n",
       "    </tr>\n",
       "    <tr>\n",
       "      <th>APQ_P_APQ_P_CP</th>\n",
       "      <td>15</td>\n",
       "      <td>4.934211</td>\n",
       "    </tr>\n",
       "    <tr>\n",
       "      <th>ColorVision_CV_Score</th>\n",
       "      <td>9</td>\n",
       "      <td>2.960526</td>\n",
       "    </tr>\n",
       "    <tr>\n",
       "      <th>PreInt_Demos_Fam_Child_Race</th>\n",
       "      <td>6</td>\n",
       "      <td>1.973684</td>\n",
       "    </tr>\n",
       "    <tr>\n",
       "      <th>PreInt_Demos_Fam_Child_Ethnicity</th>\n",
       "      <td>3</td>\n",
       "      <td>0.986842</td>\n",
       "    </tr>\n",
       "    <tr>\n",
       "      <th>Barratt_Barratt_P1_Edu</th>\n",
       "      <td>1</td>\n",
       "      <td>0.328947</td>\n",
       "    </tr>\n",
       "    <tr>\n",
       "      <th>Barratt_Barratt_P1_Occ</th>\n",
       "      <td>1</td>\n",
       "      <td>0.328947</td>\n",
       "    </tr>\n",
       "    <tr>\n",
       "      <th>EHQ_EHQ_Total</th>\n",
       "      <td>1</td>\n",
       "      <td>0.328947</td>\n",
       "    </tr>\n",
       "  </tbody>\n",
       "</table>\n",
       "</div>"
      ],
      "text/plain": [
       "                                  Missing Values  Percentage\n",
       "Barratt_Barratt_P2_Occ                        42   13.815789\n",
       "Barratt_Barratt_P2_Edu                        36   11.842105\n",
       "SDQ_SDQ_Difficulties_Total                    30    9.868421\n",
       "SDQ_SDQ_Prosocial                             30    9.868421\n",
       "SDQ_SDQ_Peer_Problems                         30    9.868421\n",
       "SDQ_SDQ_Internalizing                         30    9.868421\n",
       "SDQ_SDQ_Hyperactivity                         30    9.868421\n",
       "SDQ_SDQ_Generating_Impact                     30    9.868421\n",
       "SDQ_SDQ_Emotional_Problems                    30    9.868421\n",
       "SDQ_SDQ_Externalizing                         30    9.868421\n",
       "SDQ_SDQ_Conduct_Problems                      30    9.868421\n",
       "APQ_P_APQ_P_PP                                15    4.934211\n",
       "APQ_P_APQ_P_PM                                15    4.934211\n",
       "APQ_P_APQ_P_OPD                               15    4.934211\n",
       "APQ_P_APQ_P_INV                               15    4.934211\n",
       "APQ_P_APQ_P_ID                                15    4.934211\n",
       "APQ_P_APQ_P_CP                                15    4.934211\n",
       "ColorVision_CV_Score                           9    2.960526\n",
       "PreInt_Demos_Fam_Child_Race                    6    1.973684\n",
       "PreInt_Demos_Fam_Child_Ethnicity               3    0.986842\n",
       "Barratt_Barratt_P1_Edu                         1    0.328947\n",
       "Barratt_Barratt_P1_Occ                         1    0.328947\n",
       "EHQ_EHQ_Total                                  1    0.328947"
      ]
     },
     "execution_count": 68,
     "metadata": {},
     "output_type": "execute_result"
    }
   ],
   "source": [
    "# Check for missing values in the test data\n",
    "check_missing(test)"
   ]
  },
  {
   "cell_type": "code",
   "execution_count": 69,
   "id": "6dde1893-816e-4096-831e-fa1b271e2420",
   "metadata": {},
   "outputs": [],
   "source": [
    "# Categorical columns - use a new category \"unknown\", if not existing,  to fill in missing data\n",
    "categorical_columns = [\n",
    "    'Barratt_Barratt_P1_Edu', \n",
    "    'Barratt_Barratt_P2_Edu',\n",
    "    'Barratt_Barratt_P1_Occ',\n",
    "    'Barratt_Barratt_P2_Occ'\n",
    "    # 'PreInt_Demos_Fam_Child_Race'，\n",
    "]\n",
    "\n",
    "fill_missing(test, categorical_columns, 'constant', 99) # create a new category 99==unknwn\n",
    "fill_missing(test, ['PreInt_Demos_Fam_Child_Race'], 'constant', 10) # 10=unknown\n",
    "fill_missing(test, ['PreInt_Demos_Fam_Child_Ethnicity'], 'constant', 3) # 3=unknown\n",
    "\n",
    "\n",
    "# Numerical columns - we'll use the average value to fill in missing data\n",
    "numerical_columns = [\n",
    "    'SDQ_SDQ_Difficulties_Total',\n",
    "    'SDQ_SDQ_Prosocial',\n",
    "    'SDQ_SDQ_Peer_Problems',\n",
    "    'SDQ_SDQ_Internalizing',\n",
    "    'SDQ_SDQ_Hyperactivity',\n",
    "    'SDQ_SDQ_Generating_Impact',\n",
    "    'SDQ_SDQ_Emotional_Problems',\n",
    "    'SDQ_SDQ_Externalizing',\n",
    "    'SDQ_SDQ_Conduct_Problems',\n",
    "    'APQ_P_APQ_P_PP',\n",
    "    'APQ_P_APQ_P_PM',\n",
    "    'APQ_P_APQ_P_OPD',\n",
    "    'APQ_P_APQ_P_INV',\n",
    "    'APQ_P_APQ_P_ID',\n",
    "    'APQ_P_APQ_P_CP',\n",
    "    'ColorVision_CV_Score',\n",
    "    'EHQ_EHQ_Total'\n",
    "]\n",
    "\n",
    "\n",
    "fill_missing(test, numerical_columns, 'mean')"
   ]
  },
  {
   "cell_type": "code",
   "execution_count": 70,
   "id": "b3e72aa7-ae34-4642-8009-e7ea907d1fdf",
   "metadata": {},
   "outputs": [
    {
     "name": "stdout",
     "output_type": "stream",
     "text": [
      "\n",
      "Features with missing values:\n",
      "\n",
      "Features with missing values:\n"
     ]
    },
    {
     "data": {
      "text/html": [
       "<div>\n",
       "<style scoped>\n",
       "    .dataframe tbody tr th:only-of-type {\n",
       "        vertical-align: middle;\n",
       "    }\n",
       "\n",
       "    .dataframe tbody tr th {\n",
       "        vertical-align: top;\n",
       "    }\n",
       "\n",
       "    .dataframe thead th {\n",
       "        text-align: right;\n",
       "    }\n",
       "</style>\n",
       "<table border=\"1\" class=\"dataframe\">\n",
       "  <thead>\n",
       "    <tr style=\"text-align: right;\">\n",
       "      <th></th>\n",
       "      <th>Missing Values</th>\n",
       "      <th>Percentage</th>\n",
       "    </tr>\n",
       "  </thead>\n",
       "  <tbody>\n",
       "  </tbody>\n",
       "</table>\n",
       "</div>"
      ],
      "text/plain": [
       "Empty DataFrame\n",
       "Columns: [Missing Values, Percentage]\n",
       "Index: []"
      ]
     },
     "execution_count": 70,
     "metadata": {},
     "output_type": "execute_result"
    }
   ],
   "source": [
    "check_missing(train)\n",
    "check_missing(test)"
   ]
  },
  {
   "cell_type": "code",
   "execution_count": 71,
   "id": "01792662-bff8-43d8-bea5-2cc97f5b316c",
   "metadata": {},
   "outputs": [
    {
     "name": "stdout",
     "output_type": "stream",
     "text": [
      "<class 'pandas.core.frame.DataFrame'>\n",
      "Index: 1213 entries, UmrK0vMLopoR to k8HhHnnu2wmt\n",
      "Data columns (total 8 columns):\n",
      " #   Column                            Non-Null Count  Dtype  \n",
      "---  ------                            --------------  -----  \n",
      " 0   Barratt_Barratt_P1_Edu            1213 non-null   int64  \n",
      " 1   Barratt_Barratt_P2_Edu            1213 non-null   int64  \n",
      " 2   Barratt_Barratt_P1_Occ            1213 non-null   int64  \n",
      " 3   Barratt_Barratt_P2_Occ            1213 non-null   int64  \n",
      " 4   PreInt_Demos_Fam_Child_Race       1213 non-null   int64  \n",
      " 5   PreInt_Demos_Fam_Child_Ethnicity  1213 non-null   float64\n",
      " 6   Basic_Demos_Study_Site            1213 non-null   int64  \n",
      " 7   MRI_Track_Scan_Location           1213 non-null   int64  \n",
      "dtypes: float64(1), int64(7)\n",
      "memory usage: 85.3+ KB\n"
     ]
    }
   ],
   "source": [
    "# Get dummies for categorical variables\n",
    "cate_vars = [\n",
    "    'Barratt_Barratt_P1_Edu', \n",
    "    'Barratt_Barratt_P2_Edu',\n",
    "    'Barratt_Barratt_P1_Occ',\n",
    "    'Barratt_Barratt_P2_Occ',\n",
    "    'PreInt_Demos_Fam_Child_Race',\n",
    "    'PreInt_Demos_Fam_Child_Ethnicity',\n",
    "    'Basic_Demos_Study_Site',\n",
    "    'MRI_Track_Scan_Location'\n",
    "]\n",
    "\n",
    "train[cate_vars].info()"
   ]
  },
  {
   "cell_type": "code",
   "execution_count": 72,
   "id": "62518f53-a792-4b21-804a-9bbdbd9a71fe",
   "metadata": {},
   "outputs": [],
   "source": [
    "# Convert categorical variables to dummies\n",
    "train_encoded = pd.get_dummies(train, columns=cate_vars, dtype='int64', drop_first=True)\n",
    "test_encoded = pd.get_dummies(test, columns=cate_vars, dtype='int64', drop_first=True)"
   ]
  },
  {
   "cell_type": "code",
   "execution_count": 73,
   "id": "019c5b27-eb6d-419a-916d-66de1f4e11b0",
   "metadata": {
    "scrolled": true
   },
   "outputs": [
    {
     "name": "stdout",
     "output_type": "stream",
     "text": [
      "dummies in trainset:\n",
      "['Barratt_Barratt_P1_Edu_3', 'Barratt_Barratt_P1_Edu_6', 'Barratt_Barratt_P1_Edu_9', 'Barratt_Barratt_P1_Edu_12', 'Barratt_Barratt_P1_Edu_15', 'Barratt_Barratt_P1_Edu_18', 'Barratt_Barratt_P1_Edu_21', 'Barratt_Barratt_P2_Edu_3', 'Barratt_Barratt_P2_Edu_6', 'Barratt_Barratt_P2_Edu_9', 'Barratt_Barratt_P2_Edu_12', 'Barratt_Barratt_P2_Edu_15', 'Barratt_Barratt_P2_Edu_18', 'Barratt_Barratt_P2_Edu_21', 'Barratt_Barratt_P1_Occ_5', 'Barratt_Barratt_P1_Occ_10', 'Barratt_Barratt_P1_Occ_15', 'Barratt_Barratt_P1_Occ_20', 'Barratt_Barratt_P1_Occ_25', 'Barratt_Barratt_P1_Occ_30', 'Barratt_Barratt_P1_Occ_35', 'Barratt_Barratt_P1_Occ_40', 'Barratt_Barratt_P1_Occ_45', 'Barratt_Barratt_P2_Occ_5', 'Barratt_Barratt_P2_Occ_10', 'Barratt_Barratt_P2_Occ_15', 'Barratt_Barratt_P2_Occ_20', 'Barratt_Barratt_P2_Occ_25', 'Barratt_Barratt_P2_Occ_30', 'Barratt_Barratt_P2_Occ_35', 'Barratt_Barratt_P2_Occ_40', 'Barratt_Barratt_P2_Occ_45', 'PreInt_Demos_Fam_Child_Race_1', 'PreInt_Demos_Fam_Child_Race_2', 'PreInt_Demos_Fam_Child_Race_3', 'PreInt_Demos_Fam_Child_Race_4', 'PreInt_Demos_Fam_Child_Race_7', 'PreInt_Demos_Fam_Child_Race_8', 'PreInt_Demos_Fam_Child_Race_9', 'PreInt_Demos_Fam_Child_Race_10', 'PreInt_Demos_Fam_Child_Race_11', 'PreInt_Demos_Fam_Child_Ethnicity_1.0', 'PreInt_Demos_Fam_Child_Ethnicity_2.0', 'PreInt_Demos_Fam_Child_Ethnicity_3.0', 'Basic_Demos_Study_Site_2', 'Basic_Demos_Study_Site_3', 'Basic_Demos_Study_Site_4', 'MRI_Track_Scan_Location_1', 'MRI_Track_Scan_Location_2', 'MRI_Track_Scan_Location_3', 'MRI_Track_Scan_Location_4']\n",
      "dummies in testset:\n",
      "['Barratt_Barratt_P1_Edu_6.0', 'Barratt_Barratt_P1_Edu_9.0', 'Barratt_Barratt_P1_Edu_12.0', 'Barratt_Barratt_P1_Edu_15.0', 'Barratt_Barratt_P1_Edu_18.0', 'Barratt_Barratt_P1_Edu_21.0', 'Barratt_Barratt_P1_Edu_99.0', 'Barratt_Barratt_P2_Edu_6.0', 'Barratt_Barratt_P2_Edu_9.0', 'Barratt_Barratt_P2_Edu_12.0', 'Barratt_Barratt_P2_Edu_15.0', 'Barratt_Barratt_P2_Edu_18.0', 'Barratt_Barratt_P2_Edu_21.0', 'Barratt_Barratt_P2_Edu_99.0', 'Barratt_Barratt_P1_Occ_5.0', 'Barratt_Barratt_P1_Occ_15.0', 'Barratt_Barratt_P1_Occ_20.0', 'Barratt_Barratt_P1_Occ_25.0', 'Barratt_Barratt_P1_Occ_30.0', 'Barratt_Barratt_P1_Occ_35.0', 'Barratt_Barratt_P1_Occ_40.0', 'Barratt_Barratt_P1_Occ_45.0', 'Barratt_Barratt_P1_Occ_99.0', 'Barratt_Barratt_P2_Occ_5.0', 'Barratt_Barratt_P2_Occ_10.0', 'Barratt_Barratt_P2_Occ_15.0', 'Barratt_Barratt_P2_Occ_20.0', 'Barratt_Barratt_P2_Occ_25.0', 'Barratt_Barratt_P2_Occ_30.0', 'Barratt_Barratt_P2_Occ_35.0', 'Barratt_Barratt_P2_Occ_40.0', 'Barratt_Barratt_P2_Occ_45.0', 'Barratt_Barratt_P2_Occ_99.0', 'PreInt_Demos_Fam_Child_Race_1.0', 'PreInt_Demos_Fam_Child_Race_2.0', 'PreInt_Demos_Fam_Child_Race_3.0', 'PreInt_Demos_Fam_Child_Race_4.0', 'PreInt_Demos_Fam_Child_Race_7.0', 'PreInt_Demos_Fam_Child_Race_8.0', 'PreInt_Demos_Fam_Child_Race_9.0', 'PreInt_Demos_Fam_Child_Race_10.0', 'PreInt_Demos_Fam_Child_Race_11.0', 'PreInt_Demos_Fam_Child_Ethnicity_1.0', 'PreInt_Demos_Fam_Child_Ethnicity_2.0', 'PreInt_Demos_Fam_Child_Ethnicity_3.0', 'Basic_Demos_Study_Site_5', 'MRI_Track_Scan_Location_4']\n"
     ]
    }
   ],
   "source": [
    "print('dummies in trainset:')\n",
    "print([var for var in train_encoded.columns if not var in train.columns])\n",
    "\n",
    "print('dummies in testset:')\n",
    "print([var for var in test_encoded.columns if not var in test.columns])"
   ]
  },
  {
   "cell_type": "code",
   "execution_count": 74,
   "id": "8d619b5c-6fab-45fb-8740-ba5ea0fe0c64",
   "metadata": {
    "scrolled": true
   },
   "outputs": [
    {
     "data": {
      "text/plain": [
       "['ADHD_Outcome',\n",
       " 'Sex_F',\n",
       " 'Barratt_Barratt_P1_Edu_3',\n",
       " 'Barratt_Barratt_P1_Edu_6',\n",
       " 'Barratt_Barratt_P1_Edu_9',\n",
       " 'Barratt_Barratt_P1_Edu_12',\n",
       " 'Barratt_Barratt_P1_Edu_15',\n",
       " 'Barratt_Barratt_P1_Edu_18',\n",
       " 'Barratt_Barratt_P1_Edu_21',\n",
       " 'Barratt_Barratt_P2_Edu_3',\n",
       " 'Barratt_Barratt_P2_Edu_6',\n",
       " 'Barratt_Barratt_P2_Edu_9',\n",
       " 'Barratt_Barratt_P2_Edu_12',\n",
       " 'Barratt_Barratt_P2_Edu_15',\n",
       " 'Barratt_Barratt_P2_Edu_18',\n",
       " 'Barratt_Barratt_P2_Edu_21',\n",
       " 'Barratt_Barratt_P1_Occ_5',\n",
       " 'Barratt_Barratt_P1_Occ_10',\n",
       " 'Barratt_Barratt_P1_Occ_15',\n",
       " 'Barratt_Barratt_P1_Occ_20',\n",
       " 'Barratt_Barratt_P1_Occ_25',\n",
       " 'Barratt_Barratt_P1_Occ_30',\n",
       " 'Barratt_Barratt_P1_Occ_35',\n",
       " 'Barratt_Barratt_P1_Occ_40',\n",
       " 'Barratt_Barratt_P1_Occ_45',\n",
       " 'Barratt_Barratt_P2_Occ_5',\n",
       " 'Barratt_Barratt_P2_Occ_10',\n",
       " 'Barratt_Barratt_P2_Occ_15',\n",
       " 'Barratt_Barratt_P2_Occ_20',\n",
       " 'Barratt_Barratt_P2_Occ_25',\n",
       " 'Barratt_Barratt_P2_Occ_30',\n",
       " 'Barratt_Barratt_P2_Occ_35',\n",
       " 'Barratt_Barratt_P2_Occ_40',\n",
       " 'Barratt_Barratt_P2_Occ_45',\n",
       " 'PreInt_Demos_Fam_Child_Race_1',\n",
       " 'PreInt_Demos_Fam_Child_Race_2',\n",
       " 'PreInt_Demos_Fam_Child_Race_3',\n",
       " 'PreInt_Demos_Fam_Child_Race_4',\n",
       " 'PreInt_Demos_Fam_Child_Race_7',\n",
       " 'PreInt_Demos_Fam_Child_Race_8',\n",
       " 'PreInt_Demos_Fam_Child_Race_9',\n",
       " 'PreInt_Demos_Fam_Child_Race_10',\n",
       " 'PreInt_Demos_Fam_Child_Race_11',\n",
       " 'Basic_Demos_Study_Site_2',\n",
       " 'Basic_Demos_Study_Site_3',\n",
       " 'Basic_Demos_Study_Site_4',\n",
       " 'MRI_Track_Scan_Location_1',\n",
       " 'MRI_Track_Scan_Location_2',\n",
       " 'MRI_Track_Scan_Location_3']"
      ]
     },
     "execution_count": 74,
     "metadata": {},
     "output_type": "execute_result"
    }
   ],
   "source": [
    "# check if test and train have same columns\n",
    "[var for var in train_encoded.columns if not var in test_encoded.columns]"
   ]
  },
  {
   "cell_type": "code",
   "execution_count": 75,
   "id": "ddc88578-ea8e-43b7-bb4e-72f56781e397",
   "metadata": {},
   "outputs": [
    {
     "data": {
      "text/plain": [
       "Barratt_Barratt_P1_Edu_3\n",
       "0    1208\n",
       "1       5\n",
       "Name: count, dtype: int64"
      ]
     },
     "execution_count": 75,
     "metadata": {},
     "output_type": "execute_result"
    }
   ],
   "source": [
    "train_encoded['Barratt_Barratt_P1_Edu_3'].value_counts()"
   ]
  },
  {
   "cell_type": "code",
   "execution_count": 76,
   "id": "55cf0422-e055-490f-b6e0-e6ccbc0b8b4c",
   "metadata": {},
   "outputs": [
    {
     "name": "stdout",
     "output_type": "stream",
     "text": [
      "<class 'pandas.core.frame.DataFrame'>\n",
      "Index: 304 entries, Cfwaf5FX7jWK to dQJXfyRazknD\n",
      "Columns: 19966 entries, EHQ_EHQ_Total to MRI_Track_Scan_Location_4\n",
      "dtypes: float64(19918), int64(48)\n",
      "memory usage: 46.3+ MB\n"
     ]
    }
   ],
   "source": [
    "test_encoded.info()"
   ]
  },
  {
   "cell_type": "code",
   "execution_count": 77,
   "id": "fbc1e08a-2694-4910-b00f-35c6e9d2fc26",
   "metadata": {},
   "outputs": [],
   "source": [
    "train_encoded.to_parquet('../Dataset/widsdatathon2025/preprocessed_train.parquet')\n",
    "test_encoded.to_parquet('../Dataset/widsdatathon2025/preprocessed_test.parquet')"
   ]
  },
  {
   "cell_type": "markdown",
   "id": "3f17aac4-238c-4760-923b-e8fe1f13e0ab",
   "metadata": {
    "jp-MarkdownHeadingCollapsed": true
   },
   "source": [
    "# Feature Selection with Lasso (w/out PCA on MRI data)"
   ]
  },
  {
   "cell_type": "code",
   "execution_count": 59,
   "id": "1463b063-9ade-4af1-ad2e-1b84d7623f82",
   "metadata": {},
   "outputs": [],
   "source": [
    "from sklearn.linear_model import LassoCV\n",
    "from sklearn.preprocessing import StandardScaler\n",
    "from sklearn.multioutput import MultiOutputRegressor\n",
    "from sklearn.model_selection import train_test_split\n",
    "\n",
    "def run_lasso_multioutput(X: pd.DataFrame, y: pd.DataFrame, alpha_values=None, cv=5):\n",
    "    \"\"\"\n",
    "    Runs Lasso regression for feature selection on high-dimensional multi-output data.\n",
    "\n",
    "    Parameters:\n",
    "        X (pd.DataFrame): Feature matrix (19000+ features).\n",
    "        y (pd.DataFrame): Multi-output target variable (2 columns).\n",
    "        alpha_values (list, optional): List of alpha values for LassoCV. Default is None (auto-selection).\n",
    "        cv (int): Number of cross-validation folds (default: 5).\n",
    "\n",
    "    Returns:\n",
    "        selected_features (list): List of selected feature names (union across outputs).\n",
    "        model (MultiOutputRegressor): Trained MultiOutput Lasso model.\n",
    "    \"\"\"\n",
    "\n",
    "    # Standardize the features\n",
    "    scaler = StandardScaler()\n",
    "    X_scaled = scaler.fit_transform(X)\n",
    "\n",
    "    # Default alpha values if not provided\n",
    "    if alpha_values is None:\n",
    "        alpha_values = np.logspace(-4, 1, 50)  # Log scale for better tuning\n",
    "\n",
    "    # MultiOutput Lasso with Cross-Validation\n",
    "    base_lasso = LassoCV(alphas=alpha_values, cv=cv, max_iter=5000, n_jobs=-1)\n",
    "    lasso_multi = MultiOutputRegressor(base_lasso, n_jobs=-1)  # Runs Lasso for each target column\n",
    "\n",
    "    # Fit the model\n",
    "    lasso_multi.fit(X_scaled, y)\n",
    "\n",
    "    # Extract selected features (union across target variables)\n",
    "    selected_features = list(X.columns[np.any([estimator.coef_ != 0 for estimator in lasso_multi.estimators_], axis=0)])\n",
    "\n",
    "    print(f\"Selected {len(selected_features)} features out of {X.shape[1]} across both targets.\")\n",
    "    \n",
    "    return selected_features, lasso_multi\n"
   ]
  },
  {
   "cell_type": "code",
   "execution_count": 85,
   "id": "901bd38a-4add-408c-a09b-83ab15476296",
   "metadata": {
    "scrolled": true
   },
   "outputs": [
    {
     "ename": "TypeError",
     "evalue": "'list' object is not callable",
     "output_type": "error",
     "traceback": [
      "\u001b[0;31m---------------------------------------------------------------------------\u001b[0m",
      "\u001b[0;31mTypeError\u001b[0m                                 Traceback (most recent call last)",
      "Cell \u001b[0;32mIn[85], line 7\u001b[0m\n\u001b[1;32m      4\u001b[0m y \u001b[38;5;241m=\u001b[39m train_encoded[[\u001b[38;5;124m'\u001b[39m\u001b[38;5;124mADHD_Outcome\u001b[39m\u001b[38;5;124m'\u001b[39m, \u001b[38;5;124m'\u001b[39m\u001b[38;5;124mSex_F\u001b[39m\u001b[38;5;124m'\u001b[39m]]\n\u001b[1;32m      6\u001b[0m \u001b[38;5;66;03m# Run Lasso Feature Selection for multi-output\u001b[39;00m\n\u001b[0;32m----> 7\u001b[0m selected_features, trained_lasso_multi \u001b[38;5;241m=\u001b[39m \u001b[43mrun_lasso_multioutput\u001b[49m\u001b[43m(\u001b[49m\u001b[43mX\u001b[49m\u001b[43m,\u001b[49m\u001b[43m \u001b[49m\u001b[43my\u001b[49m\u001b[43m)\u001b[49m\n\u001b[1;32m      9\u001b[0m \u001b[38;5;66;03m# Display top selected features\u001b[39;00m\n\u001b[1;32m     10\u001b[0m \u001b[38;5;28mprint\u001b[39m(\u001b[38;5;124m\"\u001b[39m\u001b[38;5;124mTop selected features:\u001b[39m\u001b[38;5;124m\"\u001b[39m, selected_features)\n",
      "Cell \u001b[0;32mIn[59], line 37\u001b[0m, in \u001b[0;36mrun_lasso_multioutput\u001b[0;34m(X, y, alpha_values, cv)\u001b[0m\n\u001b[1;32m     34\u001b[0m lasso_multi\u001b[38;5;241m.\u001b[39mfit(X_scaled, y)\n\u001b[1;32m     36\u001b[0m \u001b[38;5;66;03m# Extract selected features (union across target variables)\u001b[39;00m\n\u001b[0;32m---> 37\u001b[0m selected_features \u001b[38;5;241m=\u001b[39m \u001b[38;5;28;43mlist\u001b[39;49m\u001b[43m(\u001b[49m\u001b[43mX\u001b[49m\u001b[38;5;241;43m.\u001b[39;49m\u001b[43mcolumns\u001b[49m\u001b[43m[\u001b[49m\u001b[43mnp\u001b[49m\u001b[38;5;241;43m.\u001b[39;49m\u001b[43many\u001b[49m\u001b[43m(\u001b[49m\u001b[43m[\u001b[49m\u001b[43mestimator\u001b[49m\u001b[38;5;241;43m.\u001b[39;49m\u001b[43mcoef_\u001b[49m\u001b[43m \u001b[49m\u001b[38;5;241;43m!=\u001b[39;49m\u001b[43m \u001b[49m\u001b[38;5;241;43m0\u001b[39;49m\u001b[43m \u001b[49m\u001b[38;5;28;43;01mfor\u001b[39;49;00m\u001b[43m \u001b[49m\u001b[43mestimator\u001b[49m\u001b[43m \u001b[49m\u001b[38;5;129;43;01min\u001b[39;49;00m\u001b[43m \u001b[49m\u001b[43mlasso_multi\u001b[49m\u001b[38;5;241;43m.\u001b[39;49m\u001b[43mestimators_\u001b[49m\u001b[43m]\u001b[49m\u001b[43m,\u001b[49m\u001b[43m \u001b[49m\u001b[43maxis\u001b[49m\u001b[38;5;241;43m=\u001b[39;49m\u001b[38;5;241;43m0\u001b[39;49m\u001b[43m)\u001b[49m\u001b[43m]\u001b[49m\u001b[43m)\u001b[49m\n\u001b[1;32m     39\u001b[0m \u001b[38;5;28mprint\u001b[39m(\u001b[38;5;124mf\u001b[39m\u001b[38;5;124m\"\u001b[39m\u001b[38;5;124mSelected \u001b[39m\u001b[38;5;132;01m{\u001b[39;00m\u001b[38;5;28mlen\u001b[39m(selected_features)\u001b[38;5;132;01m}\u001b[39;00m\u001b[38;5;124m features out of \u001b[39m\u001b[38;5;132;01m{\u001b[39;00mX\u001b[38;5;241m.\u001b[39mshape[\u001b[38;5;241m1\u001b[39m]\u001b[38;5;132;01m}\u001b[39;00m\u001b[38;5;124m across both targets.\u001b[39m\u001b[38;5;124m\"\u001b[39m)\n\u001b[1;32m     41\u001b[0m \u001b[38;5;28;01mreturn\u001b[39;00m selected_features, lasso_multi\n",
      "\u001b[0;31mTypeError\u001b[0m: 'list' object is not callable"
     ]
    }
   ],
   "source": [
    "# Separate features and multi-output target variable\n",
    "\n",
    "X = train_encoded.drop(columns=['ADHD_Outcome', 'Sex_F'])  \n",
    "y = train_encoded[['ADHD_Outcome', 'Sex_F']]\n",
    "\n",
    "# Run Lasso Feature Selection for multi-output\n",
    "selected_features, trained_lasso_multi = run_lasso_multioutput(X, y)\n",
    "\n",
    "# Display top selected features\n",
    "print(\"Top selected features:\", selected_features)\n"
   ]
  },
  {
   "cell_type": "code",
   "execution_count": null,
   "id": "3eff98ec-1ed1-497c-9ed2-262f3525b7ec",
   "metadata": {},
   "outputs": [],
   "source": []
  },
  {
   "cell_type": "code",
   "execution_count": 86,
   "id": "77cebc17-a82e-43cf-8a68-4240ae152824",
   "metadata": {},
   "outputs": [],
   "source": [
    "from sklearn.linear_model import LassoCV\n",
    "from sklearn.preprocessing import StandardScaler\n",
    "from sklearn.multioutput import MultiOutputRegressor\n",
    "from sklearn.model_selection import train_test_split\n",
    "from sklearn.metrics import mean_squared_error\n",
    "\n",
    "def run_lasso_tuned(X: pd.DataFrame, y: pd.DataFrame, alpha_values=None, cv=5):\n",
    "    \"\"\"\n",
    "    Runs Lasso regression with alpha tuning using cross-validation.\n",
    "\n",
    "    Parameters:\n",
    "        X (pd.DataFrame): Feature matrix (19000+ features).\n",
    "        y (pd.DataFrame): Multi-output target variable.\n",
    "        alpha_values (list, optional): List of alpha values for LassoCV. Default is None (auto-selection).\n",
    "        cv (int): Number of cross-validation folds.\n",
    "\n",
    "    Returns:\n",
    "        best_alpha_values (list): Best alpha values for each target variable.\n",
    "        selected_features (list): List of selected feature names (union across outputs).\n",
    "        model (MultiOutputRegressor): Trained Lasso model.\n",
    "    \"\"\"\n",
    "\n",
    "    # Standardize features\n",
    "    scaler = StandardScaler()\n",
    "    X_scaled = scaler.fit_transform(X)\n",
    "\n",
    "    # Define alpha range if not provided\n",
    "    if alpha_values is None:\n",
    "        alpha_values = np.logspace(-4, 1, 50)  # Log scale for better coverage\n",
    "\n",
    "    # MultiOutput Lasso with Cross-Validation for Alpha Selection\n",
    "    base_lasso = LassoCV(alphas=alpha_values, cv=cv, max_iter=5000, n_jobs=-1)\n",
    "    lasso_multi = MultiOutputRegressor(base_lasso, n_jobs=-1)\n",
    "\n",
    "    # Train the model\n",
    "    lasso_multi.fit(X_scaled, y)\n",
    "\n",
    "    # Extract best alpha values per target\n",
    "    best_alpha_values = [estimator.alpha_ for estimator in lasso_multi.estimators_]\n",
    "\n",
    "    # Extract selected features (union across outputs)\n",
    "    selected_features = list(X.columns[np.any([estimator.coef_ != 0 for estimator in lasso_multi.estimators_], axis=0)])\n",
    "\n",
    "    print(f\"Best alpha values per target: {best_alpha_values}\")\n",
    "    print(f\"Selected {len(selected_features)} features out of {X.shape[1]} across all targets.\")\n",
    "\n",
    "    return best_alpha_values, selected_features, lasso_multi\n"
   ]
  },
  {
   "cell_type": "code",
   "execution_count": 87,
   "id": "81a506d4-5233-4721-b953-71846f037dcb",
   "metadata": {
    "scrolled": true
   },
   "outputs": [
    {
     "ename": "TypeError",
     "evalue": "'list' object is not callable",
     "output_type": "error",
     "traceback": [
      "\u001b[0;31m---------------------------------------------------------------------------\u001b[0m",
      "\u001b[0;31mTypeError\u001b[0m                                 Traceback (most recent call last)",
      "Cell \u001b[0;32mIn[87], line 6\u001b[0m\n\u001b[1;32m      3\u001b[0m y \u001b[38;5;241m=\u001b[39m train[[\u001b[38;5;124m'\u001b[39m\u001b[38;5;124mADHD_Outcome\u001b[39m\u001b[38;5;124m'\u001b[39m, \u001b[38;5;124m'\u001b[39m\u001b[38;5;124mSex_F\u001b[39m\u001b[38;5;124m'\u001b[39m]]\n\u001b[1;32m      5\u001b[0m \u001b[38;5;66;03m# Run Lasso with alpha tuning\u001b[39;00m\n\u001b[0;32m----> 6\u001b[0m best_alphas, selected_features, trained_lasso \u001b[38;5;241m=\u001b[39m \u001b[43mrun_lasso_tuned\u001b[49m\u001b[43m(\u001b[49m\u001b[43mX\u001b[49m\u001b[43m,\u001b[49m\u001b[43m \u001b[49m\u001b[43my\u001b[49m\u001b[43m)\u001b[49m\n\u001b[1;32m      8\u001b[0m \u001b[38;5;66;03m# Display top selected features\u001b[39;00m\n\u001b[1;32m      9\u001b[0m \u001b[38;5;28mprint\u001b[39m(\u001b[38;5;124m\"\u001b[39m\u001b[38;5;124mTop selected features:\u001b[39m\u001b[38;5;124m\"\u001b[39m, selected_features)\n",
      "Cell \u001b[0;32mIn[86], line 42\u001b[0m, in \u001b[0;36mrun_lasso_tuned\u001b[0;34m(X, y, alpha_values, cv)\u001b[0m\n\u001b[1;32m     39\u001b[0m best_alpha_values \u001b[38;5;241m=\u001b[39m [estimator\u001b[38;5;241m.\u001b[39malpha_ \u001b[38;5;28;01mfor\u001b[39;00m estimator \u001b[38;5;129;01min\u001b[39;00m lasso_multi\u001b[38;5;241m.\u001b[39mestimators_]\n\u001b[1;32m     41\u001b[0m \u001b[38;5;66;03m# Extract selected features (union across outputs)\u001b[39;00m\n\u001b[0;32m---> 42\u001b[0m selected_features \u001b[38;5;241m=\u001b[39m \u001b[38;5;28;43mlist\u001b[39;49m\u001b[43m(\u001b[49m\u001b[43mX\u001b[49m\u001b[38;5;241;43m.\u001b[39;49m\u001b[43mcolumns\u001b[49m\u001b[43m[\u001b[49m\u001b[43mnp\u001b[49m\u001b[38;5;241;43m.\u001b[39;49m\u001b[43many\u001b[49m\u001b[43m(\u001b[49m\u001b[43m[\u001b[49m\u001b[43mestimator\u001b[49m\u001b[38;5;241;43m.\u001b[39;49m\u001b[43mcoef_\u001b[49m\u001b[43m \u001b[49m\u001b[38;5;241;43m!=\u001b[39;49m\u001b[43m \u001b[49m\u001b[38;5;241;43m0\u001b[39;49m\u001b[43m \u001b[49m\u001b[38;5;28;43;01mfor\u001b[39;49;00m\u001b[43m \u001b[49m\u001b[43mestimator\u001b[49m\u001b[43m \u001b[49m\u001b[38;5;129;43;01min\u001b[39;49;00m\u001b[43m \u001b[49m\u001b[43mlasso_multi\u001b[49m\u001b[38;5;241;43m.\u001b[39;49m\u001b[43mestimators_\u001b[49m\u001b[43m]\u001b[49m\u001b[43m,\u001b[49m\u001b[43m \u001b[49m\u001b[43maxis\u001b[49m\u001b[38;5;241;43m=\u001b[39;49m\u001b[38;5;241;43m0\u001b[39;49m\u001b[43m)\u001b[49m\u001b[43m]\u001b[49m\u001b[43m)\u001b[49m\n\u001b[1;32m     44\u001b[0m \u001b[38;5;28mprint\u001b[39m(\u001b[38;5;124mf\u001b[39m\u001b[38;5;124m\"\u001b[39m\u001b[38;5;124mBest alpha values per target: \u001b[39m\u001b[38;5;132;01m{\u001b[39;00mbest_alpha_values\u001b[38;5;132;01m}\u001b[39;00m\u001b[38;5;124m\"\u001b[39m)\n\u001b[1;32m     45\u001b[0m \u001b[38;5;28mprint\u001b[39m(\u001b[38;5;124mf\u001b[39m\u001b[38;5;124m\"\u001b[39m\u001b[38;5;124mSelected \u001b[39m\u001b[38;5;132;01m{\u001b[39;00m\u001b[38;5;28mlen\u001b[39m(selected_features)\u001b[38;5;132;01m}\u001b[39;00m\u001b[38;5;124m features out of \u001b[39m\u001b[38;5;132;01m{\u001b[39;00mX\u001b[38;5;241m.\u001b[39mshape[\u001b[38;5;241m1\u001b[39m]\u001b[38;5;132;01m}\u001b[39;00m\u001b[38;5;124m across all targets.\u001b[39m\u001b[38;5;124m\"\u001b[39m)\n",
      "\u001b[0;31mTypeError\u001b[0m: 'list' object is not callable"
     ]
    }
   ],
   "source": [
    "# Separate features and multi-output target variable\n",
    "X = train.drop(columns=['ADHD_Outcome', 'Sex_F'])  # Replace with actual column names\n",
    "y = train[['ADHD_Outcome', 'Sex_F']]\n",
    "\n",
    "# Run Lasso with alpha tuning\n",
    "best_alphas, selected_features, trained_lasso = run_lasso_tuned(X, y)\n",
    "\n",
    "# Display top selected features\n",
    "print(\"Top selected features:\", selected_features)"
   ]
  },
  {
   "cell_type": "markdown",
   "id": "838c3c8e-1e6b-48d4-a20f-a1ce4337a3f9",
   "metadata": {},
   "source": [
    "# Dimension Reduction for MRI Data"
   ]
  },
  {
   "cell_type": "code",
   "execution_count": 81,
   "id": "f880c3a2-458c-4fae-a681-751d681eb1d9",
   "metadata": {},
   "outputs": [],
   "source": [
    "mri = pd.read_csv(f\"../Dataset/widsdatathon2025/TRAIN/TRAIN_FUNCTIONAL_CONNECTOME_MATRICES.csv\")"
   ]
  },
  {
   "cell_type": "code",
   "execution_count": 82,
   "id": "955b5909-d3d1-490d-926a-ae459d4803c1",
   "metadata": {},
   "outputs": [],
   "source": [
    "mri = mri.set_index('participant_id')"
   ]
  },
  {
   "cell_type": "code",
   "execution_count": 83,
   "id": "d9f5c71f-f29f-4b16-b754-a02f5209de50",
   "metadata": {},
   "outputs": [],
   "source": [
    "# ! pip install kneed"
   ]
  },
  {
   "cell_type": "code",
   "execution_count": 84,
   "id": "52ee1f12-ecd8-42e3-b57d-0dc624c9769d",
   "metadata": {},
   "outputs": [],
   "source": [
    "from kneed import KneeLocator\n",
    "\n",
    "def apply_optimal_pca(df: pd.DataFrame, variance_threshold=0.95):\n",
    "    \"\"\"\n",
    "    Performs PCA transformation with the optimal number of components and returns a new DataFrame.\n",
    "\n",
    "    Parameters:\n",
    "        df (pd.DataFrame): The input DataFrame with numerical features.\n",
    "        variance_threshold (float): The variance threshold for PCA selection (default: 95%).\n",
    "\n",
    "    Returns:\n",
    "        pca_df (pd.DataFrame): DataFrame with transformed PCA features.\n",
    "        pca_model (PCA): The trained PCA model.\n",
    "        optimal_components (int): The optimal number of components.\n",
    "    \"\"\"\n",
    "\n",
    "    # Standardize the data (important for PCA)\n",
    "    scaler = StandardScaler()\n",
    "    df_scaled = scaler.fit_transform(df)\n",
    "\n",
    "    # Fit PCA to determine variance\n",
    "    pca = PCA().fit(df_scaled)\n",
    "    cumulative_variance = np.cumsum(pca.explained_variance_ratio_)\n",
    "\n",
    "    # Use KneeLocator to find the elbow point for optimal component selection\n",
    "    kneedle = KneeLocator(range(1, len(cumulative_variance) + 1), cumulative_variance, curve=\"concave\", direction=\"increasing\")\n",
    "    optimal_components = kneedle.knee\n",
    "\n",
    "    if optimal_components is None:\n",
    "        # Fallback: Use the variance threshold method if elbow detection fails\n",
    "        optimal_components = np.argmax(cumulative_variance >= variance_threshold) + 1\n",
    "        print(f\"KneeLocator failed, using variance threshold: {optimal_components} components.\")\n",
    "\n",
    "    print(f\"Optimal number of PCA components: {optimal_components}\")\n",
    "\n",
    "    # Apply PCA with the selected number of components\n",
    "    pca_final = PCA(n_components=optimal_components)\n",
    "    df_pca_transformed = pca_final.fit_transform(df_scaled)\n",
    "\n",
    "    # Convert transformed data into a DataFrame with original row indices\n",
    "    pca_df = pd.DataFrame(df_pca_transformed, index=df.index, columns=[f\"PC{i+1}\" for i in range(optimal_components)])\n",
    "\n",
    "    return pca_df, pca_final, optimal_components\n"
   ]
  },
  {
   "cell_type": "code",
   "execution_count": 85,
   "id": "41e780c3-e126-48b0-a44e-e7af03c9c76d",
   "metadata": {},
   "outputs": [
    {
     "name": "stdout",
     "output_type": "stream",
     "text": [
      "Optimal number of PCA components: 497\n",
      "<class 'pandas.core.frame.DataFrame'>\n",
      "Index: 1213 entries, 70z8Q2xdTXM3 to 9gpepMI9sj5q\n",
      "Columns: 497 entries, PC1 to PC497\n",
      "dtypes: float64(497)\n",
      "memory usage: 4.6+ MB\n",
      "None\n"
     ]
    }
   ],
   "source": [
    "\n",
    "# Apply PCA and get the reduced DataFrame\n",
    "pca_transformed_mri, optimal_pcs, pca_model = apply_optimal_pca(mri)\n",
    "\n",
    "# Display new PCA DataFrame\n",
    "print(pca_transformed_mri.info())\n"
   ]
  },
  {
   "cell_type": "code",
   "execution_count": 86,
   "id": "3851d4d3-1779-46dc-b808-00146c33b940",
   "metadata": {},
   "outputs": [],
   "source": [
    "cate = pd.read_excel(f\"../Dataset/widsdatathon2025/TRAIN/TRAIN_CATEGORICAL_METADATA.xlsx\")\n",
    "feats = pd.read_excel(f\"../Dataset/widsdatathon2025/TRAIN/TRAIN_QUANTITATIVE_METADATA.xlsx\")"
   ]
  },
  {
   "cell_type": "code",
   "execution_count": 88,
   "id": "da777214-1e81-48b6-ad14-61e411131b70",
   "metadata": {},
   "outputs": [],
   "source": [
    "pca_df = cate.merge(feats, on='participant_id', how='left').merge(pca_transformed_mri, on='participant_id', how='left')"
   ]
  },
  {
   "cell_type": "code",
   "execution_count": 92,
   "id": "70ea4adc-3c5a-407b-b467-2a65ecf9e964",
   "metadata": {},
   "outputs": [],
   "source": [
    "solution = pd.read_excel(\"../Dataset/widsdatathon2025/TRAIN/TRAINING_SOLUTIONS.xlsx\")\n",
    "pca_df = pca_df.merge(solution, on='participant_id', how='left')"
   ]
  },
  {
   "cell_type": "code",
   "execution_count": 98,
   "id": "6fd154de-5147-4a5e-8426-b9ba7e6a3795",
   "metadata": {},
   "outputs": [],
   "source": [
    "fill_missing(pca_df, ['MRI_Track_Age_at_Scan'], 'mean') # training set, numeric var\n",
    "fill_missing(pca_df, ['PreInt_Demos_Fam_Child_Ethnicity'], 'constant', 3) # 3=unknown"
   ]
  },
  {
   "cell_type": "code",
   "execution_count": 100,
   "id": "2207d9ff-9f64-4eb0-8a74-ebac48f212b5",
   "metadata": {},
   "outputs": [
    {
     "name": "stdout",
     "output_type": "stream",
     "text": [
      "\n",
      "Features with missing values:\n"
     ]
    },
    {
     "data": {
      "text/html": [
       "<div>\n",
       "<style scoped>\n",
       "    .dataframe tbody tr th:only-of-type {\n",
       "        vertical-align: middle;\n",
       "    }\n",
       "\n",
       "    .dataframe tbody tr th {\n",
       "        vertical-align: top;\n",
       "    }\n",
       "\n",
       "    .dataframe thead th {\n",
       "        text-align: right;\n",
       "    }\n",
       "</style>\n",
       "<table border=\"1\" class=\"dataframe\">\n",
       "  <thead>\n",
       "    <tr style=\"text-align: right;\">\n",
       "      <th></th>\n",
       "      <th>Missing Values</th>\n",
       "      <th>Percentage</th>\n",
       "    </tr>\n",
       "  </thead>\n",
       "  <tbody>\n",
       "  </tbody>\n",
       "</table>\n",
       "</div>"
      ],
      "text/plain": [
       "Empty DataFrame\n",
       "Columns: [Missing Values, Percentage]\n",
       "Index: []"
      ]
     },
     "execution_count": 100,
     "metadata": {},
     "output_type": "execute_result"
    }
   ],
   "source": [
    "check_missing(pca_df)"
   ]
  },
  {
   "cell_type": "code",
   "execution_count": 102,
   "id": "01cdd3f4-b272-4f6d-8405-b6502749761e",
   "metadata": {},
   "outputs": [
    {
     "name": "stdout",
     "output_type": "stream",
     "text": [
      "<class 'pandas.core.frame.DataFrame'>\n",
      "Index: 1213 entries, UmrK0vMLopoR to k8HhHnnu2wmt\n",
      "Columns: 526 entries, Basic_Demos_Enroll_Year to Sex_F\n",
      "dtypes: float64(500), int64(26)\n",
      "memory usage: 4.9+ MB\n"
     ]
    }
   ],
   "source": [
    "pca_df.set_index('participant_id', inplace=True)\n",
    "pca_df.info()"
   ]
  },
  {
   "cell_type": "code",
   "execution_count": 103,
   "id": "197c67bc-96d2-4cf8-bbc0-0a80bc7cc21f",
   "metadata": {},
   "outputs": [],
   "source": [
    "pca_df.to_parquet('../Dataset/widsdatathon2025/preprocessed_train_pca.parquet')"
   ]
  },
  {
   "cell_type": "code",
   "execution_count": null,
   "id": "78f05c98-6bc5-4070-b41e-d4c231f080e1",
   "metadata": {},
   "outputs": [],
   "source": []
  }
 ],
 "metadata": {
  "kernelspec": {
   "display_name": "Python 3 (ipykernel)",
   "language": "python",
   "name": "python3"
  },
  "language_info": {
   "codemirror_mode": {
    "name": "ipython",
    "version": 3
   },
   "file_extension": ".py",
   "mimetype": "text/x-python",
   "name": "python",
   "nbconvert_exporter": "python",
   "pygments_lexer": "ipython3",
   "version": "3.12.1"
  }
 },
 "nbformat": 4,
 "nbformat_minor": 5
}
